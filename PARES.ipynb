{
 "cells": [
  {
   "cell_type": "markdown",
   "metadata": {},
   "source": [
    "# Punto 2"
   ]
  },
  {
   "cell_type": "code",
   "execution_count": null,
   "metadata": {},
   "outputs": [],
   "source": [
    "# Ingresar un número flotante\n",
    "n = float(input(\"Ingresa un número flotante: \"))\n",
    "\n",
    "# Obtener la parte entera\n",
    "parte_entera = int(n)\n",
    "\n",
    "# Calcular la parte decimal restando la parte entera\n",
    "parte_decimal = n - parte_entera\n",
    "\n",
    "# Mostrar los dígitos de la parte entera\n",
    "print(\"Dígitos de la parte entera:\")\n",
    "while parte_entera > 0:\n",
    "    digito = parte_entera % 10\n",
    "    print(digito)\n",
    "    parte_entera //= 10\n",
    "\n",
    "# Mostrar los dígitos de la parte decimal\n",
    "print(\"Dígitos de la parte decimal:\")\n",
    "while parte_decimal > 0:\n",
    "    parte_decimal *= 10\n",
    "    digito = int(parte_decimal)\n",
    "    print(digito)\n",
    "    parte_decimal -= digito"
   ]
  },
  {
   "cell_type": "markdown",
   "metadata": {},
   "source": [
    "\n",
    "# Punto 4\n"
   ]
  },
  {
   "cell_type": "code",
   "execution_count": null,
   "metadata": {},
   "outputs": [],
   "source": [
    "import math\n",
    "\n",
    "def aproximacion_coseno(x, n):\n",
    "    # Inicializar la aproximación y las variables para el cálculo de términos\n",
    "    aproximacion = 0\n",
    "    termino = 1  # El primer término de la serie es 1 (x^0 / 0!)\n",
    "    signo = 1  # Para alternar los signos en la serie\n",
    "\n",
    "    for i in range(n):\n",
    "        aproximacion += signo * termino\n",
    "        signo *= -1  # Alterna el signo\n",
    "        # Actualizar el término siguiente de la serie: x^(2i) / (2i)!\n",
    "        termino *= (x ** 2) / ((2 * i + 1) * (2 * i + 2))\n",
    "\n",
    "    return aproximacion\n",
    "\n",
    "def calcular_error(x, error_deseado):\n",
    "    # Calcular el valor real de cos(x)\n",
    "    valor_real = math.cos(x)\n",
    "    n = 1\n",
    "    \n",
    "    while True:\n",
    "        valor_aproximado = aproximacion_coseno(x, n)\n",
    "        diferencia = abs(valor_real - valor_aproximado)\n",
    "        error_relativo = diferencia / abs(valor_real)\n",
    "        \n",
    "        if error_relativo <= error_deseado:\n",
    "            return n\n",
    "        \n",
    "        n += 1\n",
    "\n",
    "# Ejemplo de uso\n",
    "x = float(input(\"Ingresa un valor para x: \"))\n",
    "\n",
    "# Calcular para diferentes errores deseados\n",
    "error_10 = calcular_error(x, 0.1)\n",
    "print(f\"Para un error del 10%, se necesitan {error_10} términos.\")\n",
    "\n",
    "error_1 = calcular_error(x, 0.01)\n",
    "print(f\"Para un error del 1%, se necesitan {error_1} términos.\")\n",
    "\n",
    "error_01 = calcular_error(x, 0.001)\n",
    "print(f\"Para un error del 0.1%, se necesitan {error_01} términos.\")\n",
    "\n",
    "error_001 = calcular_error(x, 0.0001)\n",
    "print(f\"Para un error del 0.01%, se necesitan {error_001} términos.\")"
   ]
  },
  {
   "cell_type": "markdown",
   "metadata": {},
   "source": [
    "# Punto 6"
   ]
  },
  {
   "cell_type": "code",
   "execution_count": null,
   "metadata": {},
   "outputs": [],
   "source": [
    "# Inicializamos una variable que indica si hay repetidos\n",
    "hay_repetidos = False\n",
    "\n",
    "# Leemos la cantidad de números a ingresar\n",
    "cantidad = int(input(\"Ingrese la cantidad de números: \"))\n",
    "\n",
    "# Iteramos sobre cada número\n",
    "for i in range(cantidad):\n",
    "    # Pedimos al usuario que ingrese un número\n",
    "    numero = int(input(f\"Ingrese el número {i + 1}: \"))\n",
    "    \n",
    "    # Variable auxiliar para almacenar el siguiente número a comparar\n",
    "    numero_siguiente = numero\n",
    "    \n",
    "    # Comparación entre el número actual y los números siguientes\n",
    "    for j in range(i + 1, cantidad):\n",
    "        numero_siguiente = int(input(f\"Ingrese nuevamente el número {j + 1} para comparar: \"))\n",
    "        \n",
    "        # Si encontramos un número igual al actual, marcamos como repetido\n",
    "        if numero == numero_siguiente:\n",
    "            hay_repetidos = True\n",
    "    \n",
    "    # Si se encontró un repetido, salimos del ciclo\n",
    "    if hay_repetidos:\n",
    "        break\n",
    "\n",
    "# Imprimimos el resultado\n",
    "if hay_repetidos:\n",
    "    print(\"Existen elementos repetidos.\")\n",
    "else:\n",
    "    print(\"No existen elementos repetidos.\")"
   ]
  },
  {
   "cell_type": "markdown",
   "metadata": {},
   "source": [
    "# Punto 8"
   ]
  },
  {
   "cell_type": "code",
   "execution_count": null,
   "metadata": {},
   "outputs": [],
   "source": [
    "def diferenciar_elementos(lista1, lista2):\n",
    "    return [elemento for elemento in lista1 if elemento not in lista2]\n",
    "\n",
    "lista1 = [int(x) for x in input(\"Por favor, ingrese los elementos de la primera lista (separados por espacio): \").split()]\n",
    "lista2 = [int(x) for x in input(\"Por favor, ingrese los elementos de la segunda lista (separados por espacio): \").split()]\n",
    "\n",
    "elementos = diferenciar_elementos(lista1, lista2)\n",
    "\n",
    "if elementos:\n",
    "    print(\"Los elementos que tiene la primera lista que no tiene la segunda lista son:\", elementos)\n",
    "else:\n",
    "    print(\"La primera lista no contiene elementos que no tenga la segunda lista.\")"
   ]
  },
  {
   "cell_type": "markdown",
   "metadata": {},
   "source": [
    "# Punto 10"
   ]
  },
  {
   "cell_type": "code",
   "execution_count": null,
   "metadata": {},
   "outputs": [],
   "source": [
    "def multiplos_3_ac(lista):\n",
    "    \n",
    "    lista_multiplos_de_3 = []\n",
    "    \n",
    "    for numero in lista:\n",
    "       \n",
    "        if numero % 3 == 0:\n",
    "            lista_multiplos_de_3.append(numero)\n",
    "\n",
    "    return lista_multiplos_de_3\n",
    "\n",
    "# Ejemplo\n",
    "lista_a = [1, 2, 3, 4, 5, 6, 7, 8, 9, 10, 11, 12, 13, 14, 15]\n",
    "resultado = multiplos_3_ac(lista_a)\n",
    "print(resultado) "
   ]
  }
 ],
 "metadata": {
  "kernelspec": {
   "display_name": "Python 3",
   "language": "python",
   "name": "python3"
  },
  "language_info": {
   "name": "python",
   "version": "3.12.5"
  }
 },
 "nbformat": 4,
 "nbformat_minor": 2
}
